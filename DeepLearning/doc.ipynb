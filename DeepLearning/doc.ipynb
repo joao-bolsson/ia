{
 "cells": [
  {
   "cell_type": "markdown",
   "metadata": {},
   "source": [
    "### SOM - Self Organizing Maps\n",
    "\n",
    "A seguir, temos uma implementação de Mapas auto organizáveis, que indica fraudes em cartões de crédito. O data-set contém o id do cliente, alguns atributos, como saldos e outras informações relevantes para uma análise de crédito e se o cliente teve seu cadastro aprovado ou não. A ideia aqui não é prever se o cliente vai ser aprovado ou não, e sim detectar possíveis clientes fraudulentos através do mapa.\n",
    "\n",
    "##### Notas sobre o dataset\n",
    "\n",
    "A última coluna do dataset contém a informação se o cliente teve ou não seu cadastro aprovado. Os que Como dito anteriormente, nós não queremos prever se ele foi aprovado ou não, essa informação vai ser útil somente para \"investigar\" somente aqueles que importam, ou seja, que tiveram seu cadastro aprovado. Para um banco, não interessa quem não foi aprovado pois isso não vai dar prejuízo, diferentemente dos que foram aprovados e cometeram fraudes.\n",
    "\n",
    "---"
   ]
  },
  {
   "cell_type": "markdown",
   "metadata": {},
   "source": [
    "### Preparação dos dados\n",
    "##### Importando as bibliotecas"
   ]
  },
  {
   "cell_type": "code",
   "execution_count": 1,
   "metadata": {},
   "outputs": [],
   "source": [
    "import numpy as np\n",
    "import matplotlib.pyplot as plt\n",
    "import pandas as pd"
   ]
  },
  {
   "cell_type": "markdown",
   "metadata": {},
   "source": [
    "###### Importando o dataset"
   ]
  },
  {
   "cell_type": "code",
   "execution_count": 2,
   "metadata": {},
   "outputs": [],
   "source": [
    "dataset = pd.read_csv('Credit_Card_Applications.csv')"
   ]
  },
  {
   "cell_type": "markdown",
   "metadata": {},
   "source": [
    "###### Selecionando as features\n",
    "\n",
    "A última coluna contém a informação que diz se o cliente teve seu cadastro aprovado ou não. Removemos essa coluna porque ela não deve influenciar no algoritmo."
   ]
  },
  {
   "cell_type": "code",
   "execution_count": 3,
   "metadata": {},
   "outputs": [],
   "source": [
    "X = dataset.iloc[:, :-1].values"
   ]
  },
  {
   "cell_type": "markdown",
   "metadata": {},
   "source": [
    "Separamos a última coluna do dataset em uma variável para usarmos depois no mapa. Isso vai ajudar a identificar os pontos que contém fraudes e clientes que tiveram seu cadastro aprovado ao mesmo tempo, ou seja, aquilo que interessa nesse caso: clientes aprovados e que possuem fraudes."
   ]
  },
  {
   "cell_type": "code",
   "execution_count": 4,
   "metadata": {},
   "outputs": [],
   "source": [
    "Y = dataset.iloc[:, -1].values"
   ]
  },
  {
   "cell_type": "markdown",
   "metadata": {},
   "source": [
    "###### Normalizando as features\n",
    "\n",
    "Precisamos normalizar os valores presentes nas features, ou seja, colocar em um range entre 0 e 1. Ficará mais fácil para o algoritmo fazer os cálculos."
   ]
  },
  {
   "cell_type": "code",
   "execution_count": 5,
   "metadata": {},
   "outputs": [],
   "source": [
    "from sklearn.preprocessing import MinMaxScaler\n",
    "sc = MinMaxScaler(feature_range=(0, 1)) # feature will be between 0 and 1, that's normalization\n",
    "X = sc.fit_transform(X) # normalize all the informations in X"
   ]
  },
  {
   "cell_type": "markdown",
   "metadata": {},
   "source": [
    "### Treinamento do algoritmo\n",
    "##### Importação de uma implementação de SOM"
   ]
  },
  {
   "cell_type": "code",
   "execution_count": 6,
   "metadata": {},
   "outputs": [],
   "source": [
    "from minisom import MiniSom"
   ]
  },
  {
   "cell_type": "markdown",
   "metadata": {},
   "source": [
    "`x` e `y` representam uma dimensão arbitrária (10x10)\n",
    "`input_len` é o tamanho da entrada. Recebe 15 porque a variável `X` que contém os dados tem 14 features e 1 que contém o id do cliente para identificar os fraudulentos (outliers).\n",
    "`sigma` representa o raio de diferentes vizinhos no mapa (distância entre vizinhos). Usamos o valor padrão que é 1.0\n",
    "`learning_rate` é taxa de aprendizagem que representa a quantas vezes os pesos serão atualizados. Usamos o valor padrão que é 0.5"
   ]
  },
  {
   "cell_type": "code",
   "execution_count": 7,
   "metadata": {},
   "outputs": [],
   "source": [
    "som = MiniSom(x = 10, y = 10, input_len= 15)"
   ]
  },
  {
   "cell_type": "markdown",
   "metadata": {},
   "source": [
    "Inicialização aleatória dos pesos iniciais com valores próximos a zero e diferentes de zero."
   ]
  },
  {
   "cell_type": "code",
   "execution_count": 8,
   "metadata": {},
   "outputs": [],
   "source": [
    "som.random_weights_init(X)"
   ]
  },
  {
   "cell_type": "markdown",
   "metadata": {},
   "source": [
    "Passamos os dados para treinamento e o número de interações."
   ]
  },
  {
   "cell_type": "code",
   "execution_count": 9,
   "metadata": {},
   "outputs": [],
   "source": [
    "som.train_random(X, 5000)"
   ]
  },
  {
   "cell_type": "markdown",
   "metadata": {},
   "source": [
    "### Visualização dos Resultados\n",
    "##### Importação das bibliotecas para visualização"
   ]
  },
  {
   "cell_type": "code",
   "execution_count": 10,
   "metadata": {},
   "outputs": [],
   "source": [
    "from pylab import bone, pcolor, colorbar, plot, show"
   ]
  },
  {
   "cell_type": "markdown",
   "metadata": {},
   "source": [
    "Inicializando a figura que contém o mapa.\n",
    "\n",
    "As fraudes (outliers) são identificadas pelas cores claras. Isso acontece porque as cores com tons escuros representam os nodes que contém vizinhos muito próximos. Ou seja, os nodes estão agrupados em uma região com uma densidade alta de nodes e isso é representado por tons escuros. Sendo assim, as cores com tons mais claros representam os outliers.\n",
    "\n",
    "Para cada node teremos marcadores para identificar alguns alvos círculos vermelhos = não aprovados quadrados verdes = aprovados\n",
    "\n",
    "Isso porque queremos identificar as fraudes daqueles que tiverem seu cadastro aprovado, faz mais sentido dessa forma.\n",
    "\n",
    "Vamos percorrer o map e colocar os marcadores. i para as linhas e X para o vetor que representa os clientes (X contém os ids)"
   ]
  },
  {
   "cell_type": "code",
   "execution_count": 11,
   "metadata": {},
   "outputs": [
    {
     "data": {
      "image/png": "[encoded data removed]",
      "text/plain": [
       "<Figure size 432x288 with 2 Axes>"
      ]
     },
     "metadata": {
      "needs_background": "light"
     },
     "output_type": "display_data"
    }
   ],
   "source": [
    "from pylab import bone, pcolor, colorbar, plot, show\n",
    "bone()\n",
    "pcolor(som.distance_map().T)\n",
    "colorbar()\n",
    "markers = ['o', 's']\n",
    "colors = ['r', 'g']\n",
    "for i, x in enumerate(X):\n",
    "    w = som.winner(x)\n",
    "    plot(w[0] + 0.5,\n",
    "         w[1] + 0.5,\n",
    "         markers[Y[i]],\n",
    "         markeredgecolor = colors[Y[i]],\n",
    "         markerfacecolor = 'None',\n",
    "         markersize = 10,\n",
    "         markeredgewidth = 2)\n",
    "show()"
   ]
  }
 ],
 "metadata": {
  "kernelspec": {
   "display_name": "Python 3",
   "language": "python",
   "name": "python3"
  },
  "language_info": {
   "codemirror_mode": {
    "name": "ipython",
    "version": 3
   },
   "file_extension": ".py",
   "mimetype": "text/x-python",
   "name": "python",
   "nbconvert_exporter": "python",
   "pygments_lexer": "ipython3",
   "version": "3.7.1"
  }
 },
 "nbformat": 4,
 "nbformat_minor": 2
}
